{
  "nbformat": 4,
  "nbformat_minor": 0,
  "metadata": {
    "colab": {
      "provenance": [],
      "authorship_tag": "ABX9TyMPWbN1pw2kiDHty0jJev1j",
      "include_colab_link": true
    },
    "kernelspec": {
      "name": "python3",
      "display_name": "Python 3"
    },
    "language_info": {
      "name": "python"
    }
  },
  "cells": [
    {
      "cell_type": "markdown",
      "metadata": {
        "id": "view-in-github",
        "colab_type": "text"
      },
      "source": [
        "<a href=\"https://colab.research.google.com/github/nguyenhuuhoangthanhAIK4/do_an_python/blob/main/heap%20sort.ipynb\" target=\"_parent\"><img src=\"https://colab.research.google.com/assets/colab-badge.svg\" alt=\"Open In Colab\"/></a>"
      ]
    },
    {
      "cell_type": "code",
      "source": [
        "def heapify(arr, n, i):\n",
        "    largest = i    # Khởi tạo largest là root\n",
        "    left = 2 * i + 1    # Left = 2*i + 1\n",
        "    right = 2 * i + 2    # Right = 2*i + 2\n",
        "\n",
        "    # So sánh left child và root\n",
        "    if left < n and arr[i] < arr[left]:\n",
        "        largest = left\n",
        "\n",
        "    # So sánh right child và root\n",
        "    if right < n and arr[largest] < arr[right]:\n",
        "        largest = right\n",
        "\n",
        "    # Đổi chỗ và tiếp tục heapify nếu cần\n",
        "    if largest != i:\n",
        "        arr[i], arr[largest] = arr[largest], arr[i]    # Đổi chỗ\n",
        "\n",
        "        # Heapify tiếp tục root.\n",
        "        heapify(arr, n, largest)\n",
        "\n",
        "def heap_sort(arr):\n",
        "    n = len(arr)\n",
        "\n",
        "    # Xây dựng Max Heap.\n",
        "    for i in range(n // 2 - 1, -1, -1):\n",
        "        heapify(arr, n, i)\n",
        "\n",
        "    # Đưa từng phần tử lớn nhất vào cuối mảng đã sắp xếp\n",
        "    for i in range(n-1, 0, -1):\n",
        "        arr[i], arr[0] = arr[0], arr[i]    # Đổi chỗ\n",
        "        heapify(arr, i, 0)"
      ],
      "metadata": {
        "id": "YxfqUvUUoV9k"
      },
      "execution_count": null,
      "outputs": []
    }
  ]
}