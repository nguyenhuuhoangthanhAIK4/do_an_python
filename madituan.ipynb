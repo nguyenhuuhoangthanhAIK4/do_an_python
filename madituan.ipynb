{
  "nbformat": 4,
  "nbformat_minor": 0,
  "metadata": {
    "colab": {
      "provenance": [],
      "authorship_tag": "ABX9TyMn/1IjuKekgSI6xo3VgB9v",
      "include_colab_link": true
    },
    "kernelspec": {
      "name": "python3",
      "display_name": "Python 3"
    },
    "language_info": {
      "name": "python"
    }
  },
  "cells": [
    {
      "cell_type": "markdown",
      "metadata": {
        "id": "view-in-github",
        "colab_type": "text"
      },
      "source": [
        "<a href=\"https://colab.research.google.com/github/nguyenhuuhoangthanhAIK4/do_an_python/blob/main/madituan.ipynb\" target=\"_parent\"><img src=\"https://colab.research.google.com/assets/colab-badge.svg\" alt=\"Open In Colab\"/></a>"
      ]
    },
    {
      "cell_type": "code",
      "execution_count": null,
      "metadata": {
        "id": "JWniabr0Ds79"
      },
      "outputs": [],
      "source": [
        "# Hàm kiểm tra xem ô (x, y) có phải là ô hợp lệ trên bàn cờ hay không\n",
        "def is_valid(x, y, board):\n",
        "    if x >= 0 and y >= 0 and x < len(board) and y < len(board) and board[x][y] == -1:\n",
        "        return True\n",
        "    return False\n",
        "\n",
        "# Hàm giải bài toán mã đi tuần bằng thuật toán quay lui\n",
        "def solveKT(n):\n",
        "    # Khởi tạo bàn cờ với tất cả các ô chưa được đi qua\n",
        "    board = [[-1 for i in range(n)]for i in range(n)]\n",
        "\n",
        "    # Khởi tạo các bước di chuyển của con mã\n",
        "    move_x = [2, 1, -1, -2, -2, -1, 1, 2]\n",
        "    move_y = [1, 2, 2, 1, -1, -2, -2, -1]\n",
        "\n",
        "    # Đánh dấu ô (0, 0) là ô bắt đầu của con mã\n",
        "    board[0][0] = 0\n",
        "\n",
        "    # Bắt đầu thực hiện thuật toán quay lui từ ô (0, 0)\n",
        "    if not solveKTUtil(0, 0, 1, board, move_x, move_y):\n",
        "        print(\"Không tìm thấy lời giải\")\n",
        "    else:\n",
        "        print_board(board)\n",
        "\n",
        "# Hàm thực hiện thuật toán quay lui tìm đường đi của con mã trên bàn cờ\n",
        "def solveKTUtil(x, y, movei, board, move_x, move_y):\n",
        "    if movei == len(board)*len(board):\n",
        "        return True\n",
        "\n",
        "    # Thử tất cả các bước di chuyển của con mã\n",
        "    for i in range(8):\n",
        "        next_x = x + move_x[i]\n",
        "        next_y = y + move_y[i]\n",
        "        if is_valid(next_x, next_y, board):\n",
        "            board[next_x][next_y] = movei\n",
        "            if solveKTUtil(next_x, next_y, movei+1, board, move_x, move_y):\n",
        "                return True\n",
        "\n",
        "            # Nếu không tìm thấy lời giải, trả về trạng thái ban đầu của ô (next_x, next_y)\n",
        "            board[next_x][next_y] = -1\n",
        "    return False\n",
        "\n",
        "# Hàm in bàn cờ\n",
        "def print_board(board):\n",
        "    for i in range(len(board)):\n",
        "        for j in range(len(board)):\n",
        "            print(board[i][j], end=' ')\n",
        "        print()\n",
        "\n",
        "\n"
      ]
    }
  ]
}