{
  "nbformat": 4,
  "nbformat_minor": 0,
  "metadata": {
    "colab": {
      "provenance": [],
      "authorship_tag": "ABX9TyPMWjKuAaT0ZB+P+37qGVMs",
      "include_colab_link": true
    },
    "kernelspec": {
      "name": "python3",
      "display_name": "Python 3"
    },
    "language_info": {
      "name": "python"
    }
  },
  "cells": [
    {
      "cell_type": "markdown",
      "metadata": {
        "id": "view-in-github",
        "colab_type": "text"
      },
      "source": [
        "<a href=\"https://colab.research.google.com/github/nguyenhuuhoangthanhAIK4/do_an_python/blob/main/s%E1%BA%AFp%20x%E1%BA%BFp%20ch%E1%BB%8Dn.ipynb\" target=\"_parent\"><img src=\"https://colab.research.google.com/assets/colab-badge.svg\" alt=\"Open In Colab\"/></a>"
      ]
    },
    {
      "cell_type": "code",
      "source": [
        "# Sắp xếp chọn sắp xếp các phần tử trong mảng bằng việc tìm số nhỏ nhất trong mảng chưa sắp xếp\n",
        "# và đưa về vị trí đầu tiên. Lặp đi lặp lại cho đến khi sắp xếp xong.\n",
        "\n",
        "def selection_sort(array, ascending):\n",
        "    for ind in range(len(array)):\n",
        "        min_index = ind  # Gán min_index cho index của phần tử đang kiểm tra hiện tại\n",
        "        for j in range(ind + 1, len(array)):  # Duyệt từ phần tử hiện tại đến hết danh sách\n",
        "            if ascending is True:  # Sắp xếp tăng dần\n",
        "                if array[j] < array[min_index]:  # Nếu tìm được giá trị nhỏ hơn giá trị ở min_index\n",
        "                    min_index = j   # Gán min_index là index của phần tử đó\n",
        "            else:   # Tương tự ngược lại\n",
        "                if array[j] > array[min_index]:\n",
        "                    min_index = j\n",
        "        array[ind], array[min_index] = array[min_index], array[ind]  # Thay đổi vị trí 2 phần tử\n",
        "        print(\"Buoc\", ind + 1, \":\", array)  # In từng bước\n",
        "\n",
        "\n",
        "if __name__ == \"__main__\":\n",
        "    n = abs(int(input(\"Nhap so phan tu n: \")))\n",
        "    arr = []\n",
        "    for i in range(n):\n",
        "        x = int(input(\"Nhap phan tu thu \" + str(i + 1) + \": \"))\n",
        "        arr.append(x)\n",
        "    is_asc = input(\"Sap xep theo thu tu tang dan? (True/False): \")\n",
        "    if is_asc == \"True\":\n",
        "        selection_sort(arr, True)\n",
        "    elif is_asc == \"False\":\n",
        "        selection_sort(arr, False)"
      ],
      "metadata": {
        "id": "kgzxgDZTjzfU"
      },
      "execution_count": null,
      "outputs": []
    }
  ]
}