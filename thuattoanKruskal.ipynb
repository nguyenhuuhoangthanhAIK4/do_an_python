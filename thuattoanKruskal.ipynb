{
  "nbformat": 4,
  "nbformat_minor": 0,
  "metadata": {
    "colab": {
      "provenance": [],
      "authorship_tag": "ABX9TyORkLvbMOtIsajUFojpjpjr",
      "include_colab_link": true
    },
    "kernelspec": {
      "name": "python3",
      "display_name": "Python 3"
    },
    "language_info": {
      "name": "python"
    }
  },
  "cells": [
    {
      "cell_type": "markdown",
      "metadata": {
        "id": "view-in-github",
        "colab_type": "text"
      },
      "source": [
        "<a href=\"https://colab.research.google.com/github/nguyenhuuhoangthanhAIK4/do_an_python/blob/main/thuattoanKruskal.ipynb\" target=\"_parent\"><img src=\"https://colab.research.google.com/assets/colab-badge.svg\" alt=\"Open In Colab\"/></a>"
      ]
    },
    {
      "cell_type": "code",
      "source": [
        "from cay import *\n",
        "\n",
        "\n",
        "# Duyệt theo thứ tự trước dùng đệ quy: Node -> Left -> Right, bắt đầu từ nút gốc\n",
        "def preorder_traversal(node):\n",
        "    print(node.value, end=\" \")  # In giá trị của nút ra\n",
        "    if len(node.children) != 0:  # Kiểm tra nếu nút có con, nếu có thì duyệt các nút con từ trái -> phải\n",
        "        for i in range(0, len(node.children)):\n",
        "            preorder_traversal(node.children[i])\n",
        "\n",
        "\n",
        "# Duyệt theo thứ tự sau dùng đệ quy: Left -> Right -> Node, bắt đầu từ nút gốc\n",
        "def postorder_traversal(node):\n",
        "    if len(node.children) != 0: # Kiểm tra nếu nút có con, nếu có thì duyệt các nút con từ trái -> phải\n",
        "        for i in range(0, len(node.children)):\n",
        "            postorder_traversal(node.children[i])\n",
        "    print(node.value, end=\" \")  # In giá trị của nút ra\n",
        "\n",
        "\n",
        "if __name__ == \"__main__\":\n",
        "    '''\n",
        "    Giả sử muốn tạo cây như bên dưới\n",
        "                  5\n",
        "               /    \\   \\\n",
        "              7     3     8\n",
        "           /  \\     |   /  | \\\n",
        "          4   2     1   9  6  2\n",
        "    Ta viết như sau\n",
        "    '''\n",
        "    root = add_node(5)\n",
        "    root.add_child(add_node(7))\n",
        "    root.add_child(add_node(3))\n",
        "    root.add_child(add_node(8))\n",
        "    root.children[0].add_child(add_node(4))\n",
        "    root.children[0].add_child(add_node(2))\n",
        "    root.children[1].add_child(add_node(1))\n",
        "    root.children[2].add_child(add_node(9))\n",
        "    root.children[2].add_child(add_node(6))\n",
        "    root.children[2].add_child(add_node(2))\n",
        "\n",
        "    preorder_traversal(root)\n",
        "    print()\n",
        "    postorder_traversal(root)"
      ],
      "metadata": {
        "id": "ooSinqZnYTIE"
      },
      "execution_count": null,
      "outputs": []
    }
  ]
}