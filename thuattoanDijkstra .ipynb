{
  "nbformat": 4,
  "nbformat_minor": 0,
  "metadata": {
    "colab": {
      "provenance": [],
      "authorship_tag": "ABX9TyO0NQJ7vTzvPAxQhigP4RCw",
      "include_colab_link": true
    },
    "kernelspec": {
      "name": "python3",
      "display_name": "Python 3"
    },
    "language_info": {
      "name": "python"
    }
  },
  "cells": [
    {
      "cell_type": "markdown",
      "metadata": {
        "id": "view-in-github",
        "colab_type": "text"
      },
      "source": [
        "<a href=\"https://colab.research.google.com/github/nguyenhuuhoangthanhAIK4/do_an_python/blob/main/thuattoanDijkstra%20.ipynb\" target=\"_parent\"><img src=\"https://colab.research.google.com/assets/colab-badge.svg\" alt=\"Open In Colab\"/></a>"
      ]
    },
    {
      "cell_type": "code",
      "source": [
        "import heapq\n",
        "\n",
        "def dijkstra(graph, source):\n",
        "    # Khởi tạo khoảng cách tạm thời từ đỉnh nguồn đến các đỉnh khác\n",
        "    dist = {vertex: float('infinity') for vertex in graph}\n",
        "    dist[source] = 0\n",
        "\n",
        "    # Sử dụng priority queue để lựa chọn đỉnh tiếp theo\n",
        "    priority_queue = [(0, source)]\n",
        "\n",
        "    while priority_queue:\n",
        "        current_distance, current_vertex = heapq.heappop(priority_queue)\n",
        "\n",
        "        # Nếu khoảng cách hiện tại lớn hơn khoảng cách đã lưu, bỏ qua\n",
        "        if current_distance > dist[current_vertex]:\n",
        "            continue\n",
        "\n",
        "        # Duyệt qua các đỉnh kề\n",
        "        for neighbor, weight in graph[current_vertex].items():\n",
        "            distance = current_distance + weight\n",
        "\n",
        "            # Nếu tìm thấy đường đi ngắn hơn, cập nhật và thêm vào queue\n",
        "            if distance < dist[neighbor]:\n",
        "                dist[neighbor] = distance\n",
        "                heapq.heappush(priority_queue, (distance, neighbor))\n",
        "\n",
        "    return dist"
      ],
      "metadata": {
        "id": "2HQTPttcfeIV"
      },
      "execution_count": null,
      "outputs": []
    }
  ]
}