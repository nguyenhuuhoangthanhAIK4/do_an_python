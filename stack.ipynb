{
  "nbformat": 4,
  "nbformat_minor": 0,
  "metadata": {
    "colab": {
      "provenance": [],
      "authorship_tag": "ABX9TyPwvF98hrpqpxmJ/DCnGnRV",
      "include_colab_link": true
    },
    "kernelspec": {
      "name": "python3",
      "display_name": "Python 3"
    },
    "language_info": {
      "name": "python"
    }
  },
  "cells": [
    {
      "cell_type": "markdown",
      "metadata": {
        "id": "view-in-github",
        "colab_type": "text"
      },
      "source": [
        "<a href=\"https://colab.research.google.com/github/nguyenhuuhoangthanhAIK4/do_an_python/blob/main/stack.ipynb\" target=\"_parent\"><img src=\"https://colab.research.google.com/assets/colab-badge.svg\" alt=\"Open In Colab\"/></a>"
      ]
    },
    {
      "cell_type": "code",
      "source": [
        "# Tạo đối tượng stack\n",
        "\n",
        "class Stack:\n",
        "    def __init__(self):\n",
        "        self.stack = []  # Khởi tạo stack bằng 1 list trống\n",
        "\n",
        "    def add(self, value):\n",
        "        # Thêm phần tử vào cuối list dùng append() (LI - Last In)\n",
        "        if value not in self.stack:\n",
        "            print(\"Đã thêm phần tử giá trị\", value)\n",
        "            self.stack.append(value)\n",
        "        else:\n",
        "            print(\"Giá trị đã nằm trong stack!\")\n",
        "\n",
        "    def print_stack(self):\n",
        "        print(\"Stack hiện tại:\", self.stack)\n",
        "        print(\"Giá trị nằm trên cùng stack:\", self.peek())\n",
        "\n",
        "    # Hàm peek() để trả giá trị được thêm cuối cùng vào stack\n",
        "    def peek(self):\n",
        "        return self.stack[-1]\n",
        "\n",
        "    # Hàm remove() loại bỏ giá trị được thêm vào cuối cùng (FO - First Out)\n",
        "    def remove(self):\n",
        "        if len(self.stack) <= 0:\n",
        "            return \"Không thể bỏ giá trị nào\"\n",
        "        else:\n",
        "            print(\"Đã xóa phần tử giá trị\", self.peek())\n",
        "            self.stack.pop()\n",
        "\n",
        "\n",
        "if __name__ == \"__main__\":\n",
        "    test_stack = Stack()\n",
        "    first_val = input(\"Nhập một giá trị để bắt đầu stack: \")\n",
        "    test_stack.add(first_val)\n",
        "    finish = False\n",
        "    while finish is not True:\n",
        "        print()\n",
        "        print(\"HELP: 1 - Thêm, 2 - In, 3 - Xóa, 4 - Kết thúc\")\n",
        "        select = abs(int(input(\"Chọn 1 lệnh để thực hiện: \")))\n",
        "        if (select > 4) or (select < 1):\n",
        "            print(\"Số không hợp lệ!\")\n",
        "            continue\n",
        "        elif select == 1:\n",
        "            next_val = input(\"Nhập một giá trị bất kì để thêm vào stack: \")\n",
        "            test_stack.add(next_val)\n",
        "            continue\n",
        "        elif select == 2:\n",
        "            test_stack.print_stack()\n",
        "            continue\n",
        "        elif select == 3:\n",
        "            test_stack.remove()\n",
        "            continue\n",
        "        elif select == 4:\n",
        "            finish = True\n",
        "            print(\"Chương trình kết thúc...\")"
      ],
      "metadata": {
        "id": "Zz7UW8ZGUepo"
      },
      "execution_count": null,
      "outputs": []
    }
  ]
}