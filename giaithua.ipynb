{
  "nbformat": 4,
  "nbformat_minor": 0,
  "metadata": {
    "colab": {
      "provenance": [],
      "authorship_tag": "ABX9TyOLS6B9SBdNhMI0rzVzyv+y",
      "include_colab_link": true
    },
    "kernelspec": {
      "name": "python3",
      "display_name": "Python 3"
    },
    "language_info": {
      "name": "python"
    }
  },
  "cells": [
    {
      "cell_type": "markdown",
      "metadata": {
        "id": "view-in-github",
        "colab_type": "text"
      },
      "source": [
        "<a href=\"https://colab.research.google.com/github/nguyenhuuhoangthanhAIK4/do_an_python/blob/main/giaithua.ipynb\" target=\"_parent\"><img src=\"https://colab.research.google.com/assets/colab-badge.svg\" alt=\"Open In Colab\"/></a>"
      ]
    },
    {
      "cell_type": "code",
      "execution_count": null,
      "metadata": {
        "id": "JWniabr0Ds79"
      },
      "outputs": [],
      "source": [
        "def giaithua(n):\n",
        "    # nếu n bằng 0 thì trả về 1\n",
        "    if n == 0:\n",
        "        return 1\n",
        "    else:\n",
        "        # gán giá trị 1 cho biến giaithua\n",
        "        giaithua = 1\n",
        "        # với mỗi giá trị i trong phạm vi từ 1 đến n (bao gồm n), thực hiện các lệnh bên dưới\n",
        "        for i in range(1, n + 1):\n",
        "            giaithua *= i\n",
        "        return giaithua\n"
      ]
    }
  ]
}