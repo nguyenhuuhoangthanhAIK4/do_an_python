{
  "nbformat": 4,
  "nbformat_minor": 0,
  "metadata": {
    "colab": {
      "provenance": [],
      "authorship_tag": "ABX9TyOEBzOmWUInfVmplC1upp0Q",
      "include_colab_link": true
    },
    "kernelspec": {
      "name": "python3",
      "display_name": "Python 3"
    },
    "language_info": {
      "name": "python"
    }
  },
  "cells": [
    {
      "cell_type": "markdown",
      "metadata": {
        "id": "view-in-github",
        "colab_type": "text"
      },
      "source": [
        "<a href=\"https://colab.research.google.com/github/nguyenhuuhoangthanhAIK4/do_an_python/blob/main/queue.ipynb\" target=\"_parent\"><img src=\"https://colab.research.google.com/assets/colab-badge.svg\" alt=\"Open In Colab\"/></a>"
      ]
    },
    {
      "cell_type": "code",
      "source": [
        "class Queue:\n",
        "    def __init__(self):\n",
        "        self.queue = list()\n",
        "\n",
        "    # Thêm phần tử mới bằng insert()\n",
        "    def add(self, value):  # FI (First In)\n",
        "        if value not in self.queue:\n",
        "            # Dùng insert(0, giá trị) để đưa giá trị mới vào đầu list. Đẩy giá trị thêm vào trước đi lên\n",
        "            # VD: Cho list = [2, 3, 4]. insert(0, 1) sẽ cho ra list = [1, 2, 3, 4]\n",
        "            print(\"Đã thêm phần tử giá trị\", value, \"vào queue\")\n",
        "            self.queue.insert(0, value)\n",
        "        else:\n",
        "            print(\"Giá trị đã nằm trong queue!\")\n",
        "\n",
        "    def print_queue(self):\n",
        "        print(\"Queue hiện tại:\", self.queue)\n",
        "        print(\"Kích thước của queue:\", self.size())\n",
        "\n",
        "    # Kích thước của queue\n",
        "    def size(self):\n",
        "        return len(self.queue)\n",
        "\n",
        "    # Loại bỏ phần tử ở queue\n",
        "    # Hàm pop() bỏ phần tử ở cuối list\n",
        "    def remove(self):  # FO (First Out)\n",
        "        if len(self.queue) > 0:\n",
        "            print(\"Phần tử\", self.queue[-1], \"đã bị xóa khỏi queue\")\n",
        "            self.queue.pop()\n",
        "        else:\n",
        "            return \"Queue không có phần tử nào\"\n",
        "\n",
        "\n",
        "if __name__ == \"__main__\":\n",
        "    test_queue = Queue()\n",
        "    first_val = input(\"Nhập một giá trị để bắt đầu queue: \")\n",
        "    test_queue.add(first_val)\n",
        "    finish = False\n",
        "    while finish is not True:\n",
        "        print()\n",
        "        print(\"HELP: 1 - Thêm, 2 - In, 3 - Xóa, 4 - Kết thúc\")\n",
        "        select = abs(int(input(\"Chọn 1 lệnh để thực hiện: \")))\n",
        "        if (select > 4) or (select < 1):\n",
        "            print(\"Số không hợp lệ!\")\n",
        "            continue\n",
        "        elif select == 1:\n",
        "            next_val = input(\"Nhập một giá trị bất kì để thêm vào queue: \")\n",
        "            test_queue.add(next_val)\n",
        "            continue\n",
        "        elif select == 2:\n",
        "            test_queue.print_queue()\n",
        "            continue\n",
        "        elif select == 3:\n",
        "            test_queue.remove()\n",
        "            continue\n",
        "        elif select == 4:\n",
        "            finish = True\n",
        "            print(\"Chương trình kết thúc...\")"
      ],
      "metadata": {
        "id": "ThAaXyvgUy00"
      },
      "execution_count": null,
      "outputs": []
    }
  ]
}