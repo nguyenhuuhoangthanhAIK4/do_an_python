{
  "nbformat": 4,
  "nbformat_minor": 0,
  "metadata": {
    "colab": {
      "provenance": [],
      "authorship_tag": "ABX9TyMqcQ9EpDTZPDgRKefIvrH/",
      "include_colab_link": true
    },
    "kernelspec": {
      "name": "python3",
      "display_name": "Python 3"
    },
    "language_info": {
      "name": "python"
    }
  },
  "cells": [
    {
      "cell_type": "markdown",
      "metadata": {
        "id": "view-in-github",
        "colab_type": "text"
      },
      "source": [
        "<a href=\"https://colab.research.google.com/github/nguyenhuuhoangthanhAIK4/do_an_python/blob/main/tamquanhau.ipynb\" target=\"_parent\"><img src=\"https://colab.research.google.com/assets/colab-badge.svg\" alt=\"Open In Colab\"/></a>"
      ]
    },
    {
      "cell_type": "code",
      "execution_count": null,
      "metadata": {
        "id": "JWniabr0Ds79"
      },
      "outputs": [],
      "source": [
        "QUEEN = \"\\u265B\"        # unicode of chess queen-symbol\n",
        "N = 8\n",
        "x = 1\n",
        "def is_safe(board, row, col):\n",
        "    \"\"\"Checking if a queen can be placed on board[row][col].\"\"\"\n",
        "\n",
        "    # Check this row on left size\n",
        "    for i in range(col):\n",
        "        if board[row][i] == QUEEN:\n",
        "            return False\n",
        "\n",
        "    # Check upper diagonal on left side\n",
        "    for i, j in zip(range(row, -1, -1), range(col, -1, -1)):\n",
        "        if board[i][j] == QUEEN:\n",
        "            return False\n",
        "\n",
        "    # Check lower diagonal on left size\n",
        "    for i, j in zip(range(row, N, 1), range(col, -1, -1)):\n",
        "        if board[i][j] == QUEEN:\n",
        "            return False\n",
        "\n",
        "    return True\n",
        "\n",
        "# hàm giải bài toán 8 quân hậu\n",
        "def n_queen_solution(board, col):\n",
        "    # khởi tạo biến res với giá trị FALSE,biến này sẽ được trả về cuối cùng nếu không có giải pháp nào\n",
        "    res = False\n",
        "    # biến toàn cục dùng để đếm số lượng giải pháp được tìm thấy.\n",
        "    global x\n",
        "#Đoạn code này kiểm tra xem đã đặt quân hậu trên tất cả các cột của bàn cờ chưa nếu rồi thì in ra được 1 giải pháp\n",
        "    if col >= N:\n",
        "        print(x, \": \")\n",
        "#Đoạn code này dùng để in ra bàn cờ hiện tại\n",
        "#sử dụng 2 vòng lặp for để lặp qua từng hàng và cột của bàn cờ\n",
        "#trong mỗi vòng lặp in ra giá trị của bàn cờ kết thức bằng khoảng trắng\n",
        "# sau khi in hết các ô ,chúng ta in ra một dòng trống để xuống dòng và tiếp tục in các ô trên hàng tiếp theo.\n",
        "        for i in range(N):\n",
        "            for j in range(N):\n",
        "                print(board[i][j], end=\"  \")\n",
        "            print()\n",
        "        print()\n",
        "# sau khi in xong bàn cờ hiện tại thì tăng giá trị của biến đếm thêm 1 đơn vị rồi trả về giá trị TRUE để thông báo đã tìm thấy 1 giải pháp\n",
        "        x += 1\n",
        "        return True\n",
        "# code để đặt quân hậu vào bàn cờ\n",
        "# sử dụng vòng lặp for để lặp qua từng hàng trên cột, với mỗi hàng thì kiểm tra quân hậu có thể đặt vào vị trí đó hay không bằng cách sử dụng hàm is_safe\n",
        "# với tham số i là số hàng col là số cột\n",
        "    for i in range(N):\n",
        "        if is_safe(board, i, col):\n",
        "# dòng lệnh này dùng để đặt quân hậu vào vị trí (i,col) trên bàn cờ bằng cách gán giá trị \"queen\" cho phần tử tại vị trí đó trong board\n",
        "            board[i][col] = QUEEN\n",
        "# gọi hàm n_queen_solution với tham số board và cột col+1   nếu hàm trả về là True thì biến res sẽ được cập nhật thành true rồi in kết quả ra màn hình\n",
        "# nếu hàm trả về là FALSE thì gán giá trị ô(i,col) trở lại thành \"_\" để thử các giá trị khác cho biến i trên cột hiện tại\n",
        "            res = n_queen_solution(board, col + 1) or res\n",
        "\n",
        "            board[i][col] = '_'         # backtrack\n",
        "# cuối cùng trả về giá trị biến res để biểu thị cho việc tìm được giải pháp nếu là True và không tìm thấy giải pháp nếu là False\n",
        "    return res\n",
        "\n",
        "def n_queen():\n",
        "    # câu lệnh dùng để khởi tạo bàn cờ có kích thước NxN, với tất cả các ô đều chưa đặt quân hậu và được đánh dấu bằng dấu \"_\"\n",
        "    board = [['_' for _ in range(N)] for _ in range(N)]\n",
        "    # hàm n_queen_solution(board, 0) với tham số đầu tiên là bàn cờ mới tạo ở trên, và tham số thứ hai là 0, đại diện cho số lượng quân hậu đã đặt trên bàn cờ.\n",
        "    y = n_queen_solution(board, 0)\n",
        "    # nếu n_queen_solution(board,0) không trả về giải pháp nào thì in ra \"no solution exist\" nghĩa là không tìm thấy giải pháp\n",
        "    if not y:\n",
        "        print(\"No solution exist!\")\n",
        "\n",
        "if __name__ == '__main__':\n",
        "    n_queen()\n",
        "\n",
        "\n"
      ]
    }
  ]
}