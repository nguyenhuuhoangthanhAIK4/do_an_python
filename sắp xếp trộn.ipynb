{
  "nbformat": 4,
  "nbformat_minor": 0,
  "metadata": {
    "colab": {
      "provenance": [],
      "authorship_tag": "ABX9TyMQGmJe/bB8vNiBb5BUulJu",
      "include_colab_link": true
    },
    "kernelspec": {
      "name": "python3",
      "display_name": "Python 3"
    },
    "language_info": {
      "name": "python"
    }
  },
  "cells": [
    {
      "cell_type": "markdown",
      "metadata": {
        "id": "view-in-github",
        "colab_type": "text"
      },
      "source": [
        "<a href=\"https://colab.research.google.com/github/nguyenhuuhoangthanhAIK4/do_an_python/blob/main/s%E1%BA%AFp%20x%E1%BA%BFp%20tr%E1%BB%99n.ipynb\" target=\"_parent\"><img src=\"https://colab.research.google.com/assets/colab-badge.svg\" alt=\"Open In Colab\"/></a>"
      ]
    },
    {
      "cell_type": "code",
      "source": [
        "def merge_sort(arr):\n",
        "    if len(arr) > 1:\n",
        "        mid = len(arr) // 2  # Tìm điểm giữa mảng\n",
        "        left_half = arr[:mid]  # Chia mảng thành hai nửa\n",
        "        right_half = arr[mid:]\n",
        "\n",
        "        # Đệ quy sắp xếp từng nửa\n",
        "        merge_sort(left_half)\n",
        "        merge_sort(right_half)\n",
        "\n",
        "        # Trộn hai nửa đã sắp xếp lại với nhau\n",
        "        i = j = k = 0  # i là chỉ số cho left_half, j là chỉ số cho right_half, k là chỉ số cho arr\n",
        "\n",
        "        while i < len(left_half) and j < len(right_half):\n",
        "            if left_half[i] < right_half[j]:\n",
        "                arr[k] = left_half[i]\n",
        "                i += 1\n",
        "            else:\n",
        "                arr[k] = right_half[j]\n",
        "                j += 1\n",
        "            k += 1\n",
        "\n",
        "        # Copy các phần tử còn lại của left_half vào arr nếu có\n",
        "        while i < len(left_half):\n",
        "            arr[k] = left_half[i]\n",
        "            i += 1\n",
        "            k += 1\n",
        "\n",
        "        # Copy các phần tử còn lại của right_half vào arr nếu có\n",
        "        while j < len(right_half):\n",
        "            arr[k] = right_half[j]\n",
        "            j += 1\n",
        "            k += 1"
      ],
      "metadata": {
        "id": "_PAMWGK3pR97"
      },
      "execution_count": null,
      "outputs": []
    }
  ]
}