{
  "nbformat": 4,
  "nbformat_minor": 0,
  "metadata": {
    "colab": {
      "provenance": [],
      "authorship_tag": "ABX9TyNr1ZamADSH+eKUuv1jxhbM",
      "include_colab_link": true
    },
    "kernelspec": {
      "name": "python3",
      "display_name": "Python 3"
    },
    "language_info": {
      "name": "python"
    }
  },
  "cells": [
    {
      "cell_type": "markdown",
      "metadata": {
        "id": "view-in-github",
        "colab_type": "text"
      },
      "source": [
        "<a href=\"https://colab.research.google.com/github/nguyenhuuhoangthanhAIK4/do_an_python/blob/main/thaphanoi.ipynb\" target=\"_parent\"><img src=\"https://colab.research.google.com/assets/colab-badge.svg\" alt=\"Open In Colab\"/></a>"
      ]
    },
    {
      "cell_type": "code",
      "execution_count": null,
      "metadata": {
        "id": "JWniabr0Ds79"
      },
      "outputs": [],
      "source": [
        "def hanoi(n, A, B, C):\n",
        "    if n == 1:\n",
        "        print(\"Dia 1 tu\", A, \"sang\", C) # Nếu chỉ có 1 đĩa, ta chuyển ngay sang cột đích C\n",
        "        return\n",
        "    hanoi(n - 1, A, C, B)  # Chuyển n-1 đĩa sang cột B, C làm cột trung gian\n",
        "    print(\"Dia\", n, \"tu\", A, \"sang\", C)  # Chuyển đĩa n sang cột C, B làm cột trung gian\n",
        "    hanoi(n - 1, B, A, C) # Chuyển n-1 đĩa từ cột B sang cột C, A làm cột trung gian\n",
        "\n",
        "\n",
        "def main():\n",
        "    n = abs(int(input(\"Nhap so dia n: \")))\n",
        "    hanoi(n, \"A\", \"B\", \"C\")\n",
        "    print(\"So buoc:\", 2**n - 1)\n",
        "\n",
        "\n",
        "if __name__ == \"__main__\":\n",
        "    main()\n"
      ]
    }
  ]
}