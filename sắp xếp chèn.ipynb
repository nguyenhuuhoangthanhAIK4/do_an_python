{
  "nbformat": 4,
  "nbformat_minor": 0,
  "metadata": {
    "colab": {
      "provenance": [],
      "authorship_tag": "ABX9TyMc2TjRZZwI/JMoPf5m7lEB",
      "include_colab_link": true
    },
    "kernelspec": {
      "name": "python3",
      "display_name": "Python 3"
    },
    "language_info": {
      "name": "python"
    }
  },
  "cells": [
    {
      "cell_type": "markdown",
      "metadata": {
        "id": "view-in-github",
        "colab_type": "text"
      },
      "source": [
        "<a href=\"https://colab.research.google.com/github/nguyenhuuhoangthanhAIK4/do_an_python/blob/main/s%E1%BA%AFp%20x%E1%BA%BFp%20ch%C3%A8n.ipynb\" target=\"_parent\"><img src=\"https://colab.research.google.com/assets/colab-badge.svg\" alt=\"Open In Colab\"/></a>"
      ]
    },
    {
      "cell_type": "code",
      "source": [
        "# Sắp xếp chèn chạy lần lượt các phần tử ở mảng chưa sắp xếp và chèn vào trong mảng sắp xếp\n",
        "# lặp đi lặp lại cho đến khi sắp xếp hết mảng\n",
        "\n",
        "def insertion_sort(array, ascending):\n",
        "    for i in range(1, len(array)):\n",
        "        key = array[i]  # Gán key cho giá trị của phần tử đang kiểm tra\n",
        "        j = i - 1   # Đặt biến chỉ index của phần tử nằm sau phần tử kiểm tra\n",
        "        if ascending is True:   # Sắp xếp tăng dần\n",
        "            # Kiểm tra nếu index j vẫn nằm sau phần tử kiểm tra (>=0)\n",
        "            # và giá trị tại j lớn hơn giá trị key\n",
        "            while j >= 0 and key < array[j]:\n",
        "                # Đẩy số lên 1 index\n",
        "                array[j+1] = array[j]\n",
        "                # Trỏ đến số nằm sau\n",
        "                j -= 1\n",
        "            # Chèn key vào vị trí mới\n",
        "            array[j+1] = key\n",
        "        else:  # Tương tự ngược lại\n",
        "            while j >= 0 and key > array[j]:\n",
        "                array[j+1] = array[j]\n",
        "                j -= 1\n",
        "            array[j+1] = key\n",
        "        print(\"Buoc\", i, \":\", array)  # In bước\n",
        "\n",
        "\n",
        "if __name__ == \"__main__\":\n",
        "    n = abs(int(input(\"Nhap so phan tu n: \")))\n",
        "    arr = []\n",
        "    for i in range(n):\n",
        "        x = int(input(\"Nhap phan tu thu \" + str(i + 1) + \": \"))\n",
        "        arr.append(x)\n",
        "    is_asc = input(\"Sap xep theo thu tu tang dan? (True/False): \")\n",
        "    if is_asc == \"True\":\n",
        "        insertion_sort(arr, True)\n",
        "    elif is_asc == \"False\":\n",
        "        insertion_sort(arr, False)"
      ],
      "metadata": {
        "id": "Ah5IlcBrkRu-"
      },
      "execution_count": null,
      "outputs": []
    }
  ]
}