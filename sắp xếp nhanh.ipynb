{
  "nbformat": 4,
  "nbformat_minor": 0,
  "metadata": {
    "colab": {
      "provenance": [],
      "authorship_tag": "ABX9TyNPr69DPuB+yoPfryjy/95I",
      "include_colab_link": true
    },
    "kernelspec": {
      "name": "python3",
      "display_name": "Python 3"
    },
    "language_info": {
      "name": "python"
    }
  },
  "cells": [
    {
      "cell_type": "markdown",
      "metadata": {
        "id": "view-in-github",
        "colab_type": "text"
      },
      "source": [
        "<a href=\"https://colab.research.google.com/github/nguyenhuuhoangthanhAIK4/do_an_python/blob/main/s%E1%BA%AFp%20x%E1%BA%BFp%20nhanh.ipynb\" target=\"_parent\"><img src=\"https://colab.research.google.com/assets/colab-badge.svg\" alt=\"Open In Colab\"/></a>"
      ]
    },
    {
      "cell_type": "code",
      "source": [
        "def quick_sort(arr):\n",
        "    if len(arr) <= 1:\n",
        "        return arr\n",
        "\n",
        "    pivot = arr[len(arr) // 2]  # Chọn pivot là phần tử giữa của mảng\n",
        "    left = [x for x in arr if x < pivot]      # Tạo mảng left chứa các phần tử nhỏ hơn pivot\n",
        "    middle = [x for x in arr if x == pivot]   # Tạo mảng middle chứa các phần tử bằng pivot\n",
        "    right = [x for x in arr if x > pivot]     # Tạo mảng right chứa các phần tử lớn hơn pivot\n",
        "\n",
        "    return quick_sort(left) + middle + quick_sort(right)   # Đệ quy sắp xếp left và right, sau đó ghép kết quả"
      ],
      "metadata": {
        "id": "GFr55iiVmt15"
      },
      "execution_count": null,
      "outputs": []
    }
  ]
}