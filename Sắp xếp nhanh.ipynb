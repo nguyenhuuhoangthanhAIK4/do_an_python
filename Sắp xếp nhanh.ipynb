{
  "nbformat": 4,
  "nbformat_minor": 0,
  "metadata": {
    "colab": {
      "provenance": [],
      "authorship_tag": "ABX9TyPrFqO4MKD5XkG9qczA78n1",
      "include_colab_link": true
    },
    "kernelspec": {
      "name": "python3",
      "display_name": "Python 3"
    },
    "language_info": {
      "name": "python"
    }
  },
  "cells": [
    {
      "cell_type": "markdown",
      "metadata": {
        "id": "view-in-github",
        "colab_type": "text"
      },
      "source": [
        "<a href=\"https://colab.research.google.com/github/nguyenhuuhoangthanhAIK4/do_an_python/blob/main/S%E1%BA%AFp%20x%E1%BA%BFp%20nhanh.ipynb\" target=\"_parent\"><img src=\"https://colab.research.google.com/assets/colab-badge.svg\" alt=\"Open In Colab\"/></a>"
      ]
    },
    {
      "cell_type": "code",
      "source": [
        "# Xét một mảng gồm các phần tử. Sắp xếp phần tử quanh phần tử chốt (pivot), phần tử nhỏ hơn để bên trái, phần tử\n",
        "# lớn hơn hoặc bằng để bên phải. Sau đó xét 2 mảng con nằm bên trái/phải của phần tử chốt. Lặp lại cho đến khi mảng\n",
        "# ban đầu được sắp xếp\n",
        "\n",
        "\n",
        "# Hàm chia mảng thành 2 mảng con\n",
        "def partition(array, low, high, ascending):\n",
        "    # Có một số cách để chọn một phần tử chốt\n",
        "    # Ở đây ta sẽ chỉ chọn phần tử nằm tận cùng bên phải\n",
        "    pivot = array[high]\n",
        "\n",
        "    # Trỏ vào phần tử lớn hơn\n",
        "    i = low - 1\n",
        "\n",
        "    # Duyệt từng phần tử trong list\n",
        "    # Với mỗi phần tử so sánh nó với phần tử chốt\n",
        "    for j in range(low, high):\n",
        "        if ascending:\n",
        "            if array[j] <= pivot:\n",
        "                # Nếu tìm thấy phần tử nhỏ hơn phần tử chốt\n",
        "                # Xáo nó với phần tử lớn hơn trỏ bởi i\n",
        "                i = i + 1\n",
        "\n",
        "                # Xáo phần tử i với phần tử j\n",
        "                (array[i], array[j]) = (array[j], array[i])\n",
        "                print(array)\n",
        "        else:\n",
        "            if array[j] >= pivot:\n",
        "                # Nếu tìm thấy phần tử lớn hơn phần tử chốt\n",
        "                # Xáo nó với phần tử lớn hơn trỏ bởi i\n",
        "                i = i + 1\n",
        "\n",
        "                # Xáo phần tử i với phần tử j\n",
        "                (array[i], array[j]) = (array[j], array[i])\n",
        "                print(array)\n",
        "\n",
        "    # Xáo phần tử chốt với phần tử lớn hơn trỏ bởi i\n",
        "    (array[i + 1], array[high]) = (array[high], array[i + 1])\n",
        "    print(array)\n",
        "\n",
        "    # Trả về vị trí tách đôi mảng\n",
        "    return i + 1\n",
        "\n",
        "\n",
        "# Hàm quicksort\n",
        "def quick_sort(array, low, high, ascending):\n",
        "    # Kiểm tra nếu mảng có ít nhất 2 phần tử\n",
        "    if low < high:\n",
        "        # Tìm vị trí phần tử chốt sau khi di chuyển\n",
        "        # để thực hiện quick sort vào 2 mảng con\n",
        "        pi = partition(array, low, high, ascending)\n",
        "\n",
        "        # quick sort mảng bên trái\n",
        "        quick_sort(array, low, pi - 1, ascending)\n",
        "\n",
        "        # quick sort mảng bên phải\n",
        "        quick_sort(array, pi + 1, high, ascending)\n",
        "\n",
        "\n",
        "if __name__ == \"__main__\":\n",
        "    n = abs(int(input(\"Nhap so phan tu n: \")))\n",
        "    arr = []\n",
        "    for i in range(n):\n",
        "        x = int(input(\"Nhap phan tu thu \" + str(i + 1) + \": \"))\n",
        "        arr.append(x)\n",
        "    is_asc = input(\"Sap xep theo thu tu tang dan? (True/False): \")\n",
        "    if is_asc == \"True\":\n",
        "        quick_sort(arr, 0, n - 1, True)\n",
        "    elif is_asc == \"False\":\n",
        "        quick_sort(arr, 0, n - 1, False)"
      ],
      "metadata": {
        "id": "sNDwe4mBlWUR"
      },
      "execution_count": null,
      "outputs": []
    }
  ]
}