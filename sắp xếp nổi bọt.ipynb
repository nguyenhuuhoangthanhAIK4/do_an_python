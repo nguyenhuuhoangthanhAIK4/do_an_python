{
  "nbformat": 4,
  "nbformat_minor": 0,
  "metadata": {
    "colab": {
      "provenance": [],
      "authorship_tag": "ABX9TyP9X2yN7iXbH/hHCIqPoYhR",
      "include_colab_link": true
    },
    "kernelspec": {
      "name": "python3",
      "display_name": "Python 3"
    },
    "language_info": {
      "name": "python"
    }
  },
  "cells": [
    {
      "cell_type": "markdown",
      "metadata": {
        "id": "view-in-github",
        "colab_type": "text"
      },
      "source": [
        "<a href=\"https://colab.research.google.com/github/nguyenhuuhoangthanhAIK4/do_an_python/blob/main/s%E1%BA%AFp%20x%E1%BA%BFp%20n%E1%BB%95i%20b%E1%BB%8Dt.ipynb\" target=\"_parent\"><img src=\"https://colab.research.google.com/assets/colab-badge.svg\" alt=\"Open In Colab\"/></a>"
      ]
    },
    {
      "cell_type": "code",
      "source": [
        "# sắp xếp nổi bọt là thay đổi vị trí hai phần tử liên tiếp nếu chúng không theo thứ tự ta cần\n",
        "# lặp đi lặp lại cho đến khi mảng được sắp xếp\n",
        "\n",
        "def bubble_sort(array, ascending):\n",
        "    for i in range(len(array) - 1):  # Thu hẹp dần phạm vi duyệt khi ta đẩy được số lớn nhất/nhỏ nhất về bên phải cùng\n",
        "        for j in range(0, len(array) - i - 1):  # Duyệt từng phần tử trong phạm vi duyệt từ trái -> phải\n",
        "            if ascending is True:  # Sắp xếp tăng dần\n",
        "                if array[j] > array[j + 1]:  # Nếu phần tử trước lớn hơn phần tử sau\n",
        "                    array[j], array[j + 1] = array[j + 1], array[j]  # Hoán đổi\n",
        "            else:  # Tương tự ngược lại\n",
        "                if array[j] < array[j + 1]:\n",
        "                    array[j], array[j + 1] = array[j + 1], array[j]\n",
        "            print(array)  # In bước\n",
        "\n",
        "\n",
        "if __name__ == \"__main__\":\n",
        "    n = abs(int(input(\"Nhap so phan tu n: \")))\n",
        "    arr = []\n",
        "    for i in range(n):\n",
        "        x = int(input(\"Nhap phan tu thu \" + str(i + 1) + \": \"))\n",
        "        arr.append(x)\n",
        "    is_asc = input(\"Sap xep theo thu tu tang dan? (True/False): \")\n",
        "    if is_asc == \"True\":\n",
        "        bubble_sort(arr, True)\n",
        "    elif is_asc == \"False\":\n",
        "        bubble_sort(arr, False)"
      ],
      "metadata": {
        "id": "U3r-fmk-kqva"
      },
      "execution_count": null,
      "outputs": []
    }
  ]
}