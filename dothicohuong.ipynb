{
  "nbformat": 4,
  "nbformat_minor": 0,
  "metadata": {
    "colab": {
      "provenance": [],
      "authorship_tag": "ABX9TyO2tDcv1BAt7DKbGqtEbF2R",
      "include_colab_link": true
    },
    "kernelspec": {
      "name": "python3",
      "display_name": "Python 3"
    },
    "language_info": {
      "name": "python"
    }
  },
  "cells": [
    {
      "cell_type": "markdown",
      "metadata": {
        "id": "view-in-github",
        "colab_type": "text"
      },
      "source": [
        "<a href=\"https://colab.research.google.com/github/nguyenhuuhoangthanhAIK4/do_an_python/blob/main/dothicohuong.ipynb\" target=\"_parent\"><img src=\"https://colab.research.google.com/assets/colab-badge.svg\" alt=\"Open In Colab\"/></a>"
      ]
    },
    {
      "cell_type": "code",
      "source": [
        "from collections import defaultdict\n",
        "\n",
        "class Graph:\n",
        "    def __init__(self):\n",
        "        self.adjacency_list = defaultdict(list)\n",
        "\n",
        "    def add_edge(self, u, v):\n",
        "        self.adjacency_list[u].append(v)\n",
        "\n",
        "    def print_graph(self):\n",
        "        for vertex in self.adjacency_list:\n",
        "            print(vertex, '->', ' -> '.join(map(str, self.adjacency_list[vertex])))"
      ],
      "metadata": {
        "id": "crrs4ImIjCOB"
      },
      "execution_count": null,
      "outputs": []
    }
  ]
}