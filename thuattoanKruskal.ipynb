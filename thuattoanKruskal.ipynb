{
  "nbformat": 4,
  "nbformat_minor": 0,
  "metadata": {
    "colab": {
      "provenance": [],
      "authorship_tag": "ABX9TyMPCdrSbYFhisN7loVKwaUm",
      "include_colab_link": true
    },
    "kernelspec": {
      "name": "python3",
      "display_name": "Python 3"
    },
    "language_info": {
      "name": "python"
    }
  },
  "cells": [
    {
      "cell_type": "markdown",
      "metadata": {
        "id": "view-in-github",
        "colab_type": "text"
      },
      "source": [
        "<a href=\"https://colab.research.google.com/github/nguyenhuuhoangthanhAIK4/do_an_python/blob/main/thuattoanKruskal.ipynb\" target=\"_parent\"><img src=\"https://colab.research.google.com/assets/colab-badge.svg\" alt=\"Open In Colab\"/></a>"
      ]
    },
    {
      "cell_type": "code",
      "source": [
        "class UnionFind:\n",
        "    def __init__(self, n):\n",
        "        self.parent = list(range(n))\n",
        "        self.rank = [1] * n\n",
        "\n",
        "    def find(self, u):\n",
        "        if self.parent[u] != u:\n",
        "            self.parent[u] = self.find(self.parent[u])\n",
        "        return self.parent[u]\n",
        "\n",
        "    def union(self, u, v):\n",
        "        root_u = self.find(u)\n",
        "        root_v = self.find(v)\n",
        "\n",
        "        if root_u != root_v:\n",
        "            # Union by rank\n",
        "            if self.rank[root_u] > self.rank[root_v]:\n",
        "                self.parent[root_v] = root_u\n",
        "            elif self.rank[root_u] < self.rank[root_v]:\n",
        "                self.parent[root_u] = root_v\n",
        "            else:\n",
        "                self.parent[root_v] = root_u\n",
        "                self.rank[root_u] += 1\n",
        "            return True\n",
        "        return False\n",
        "\n",
        "def kruskal(edges, n):\n",
        "\n",
        "    edges.sort(key=lambda x: x[2])\n",
        "\n",
        "    uf = UnionFind(n)\n",
        "    min_spanning_tree = []\n",
        "    num_edges = 0\n",
        "    index = 0\n",
        "\n",
        "\n",
        "    while num_edges < n - 1 and index < len(edges):\n",
        "        u, v, weight = edges[index]\n",
        "        index += 1\n",
        "\n",
        "\n",
        "        if uf.union(u, v):\n",
        "            min_spanning_tree.append((u, v, weight))\n",
        "            num_edges += 1\n",
        "\n",
        "    if num_edges == n - 1:\n",
        "        return min_spanning_tree\n",
        "    else:\n",
        "        return []"
      ],
      "metadata": {
        "id": "d8DKlcD8cAbM"
      },
      "execution_count": null,
      "outputs": []
    }
  ]
}