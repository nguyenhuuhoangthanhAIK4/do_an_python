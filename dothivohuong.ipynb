{
  "nbformat": 4,
  "nbformat_minor": 0,
  "metadata": {
    "colab": {
      "provenance": [],
      "authorship_tag": "ABX9TyN4cXuLFkKuoHKYq3VNY590",
      "include_colab_link": true
    },
    "kernelspec": {
      "name": "python3",
      "display_name": "Python 3"
    },
    "language_info": {
      "name": "python"
    }
  },
  "cells": [
    {
      "cell_type": "markdown",
      "metadata": {
        "id": "view-in-github",
        "colab_type": "text"
      },
      "source": [
        "<a href=\"https://colab.research.google.com/github/nguyenhuuhoangthanhAIK4/do_an_python/blob/main/dothivohuong.ipynb\" target=\"_parent\"><img src=\"https://colab.research.google.com/assets/colab-badge.svg\" alt=\"Open In Colab\"/></a>"
      ]
    },
    {
      "cell_type": "code",
      "source": [
        "class Graph:\n",
        "    def __init__(self):\n",
        "        self.adjacency_list = {}\n",
        "\n",
        "    def add_edge(self, u, v):\n",
        "        if u not in self.adjacency_list:\n",
        "            self.adjacency_list[u] = []\n",
        "        if v not in self.adjacency_list:\n",
        "            self.adjacency_list[v] = []\n",
        "\n",
        "        # Undirected graph, so add edges in both directions\n",
        "        if v not in self.adjacency_list[u]:\n",
        "            self.adjacency_list[u].append(v)\n",
        "        if u not in self.adjacency_list[v]:\n",
        "            self.adjacency_list[v].append(u)\n",
        "\n",
        "    def print_graph(self):\n",
        "        for vertex in self.adjacency_list:\n",
        "            print(vertex, '->', ' -> '.join(map(str, self.adjacency_list[vertex])))\n"
      ],
      "metadata": {
        "id": "2HQTPttcfeIV"
      },
      "execution_count": null,
      "outputs": []
    }
  ]
}