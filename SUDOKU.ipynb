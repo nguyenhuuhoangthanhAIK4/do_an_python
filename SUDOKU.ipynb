{
  "nbformat": 4,
  "nbformat_minor": 0,
  "metadata": {
    "colab": {
      "provenance": [],
      "authorship_tag": "ABX9TyP5xJ9rnU4U3vvlPfLw3kOA",
      "include_colab_link": true
    },
    "kernelspec": {
      "name": "python3",
      "display_name": "Python 3"
    },
    "language_info": {
      "name": "python"
    }
  },
  "cells": [
    {
      "cell_type": "markdown",
      "metadata": {
        "id": "view-in-github",
        "colab_type": "text"
      },
      "source": [
        "<a href=\"https://colab.research.google.com/github/nguyenhuuhoangthanhAIK4/do_an_python/blob/main/SUDOKU.ipynb\" target=\"_parent\"><img src=\"https://colab.research.google.com/assets/colab-badge.svg\" alt=\"Open In Colab\"/></a>"
      ]
    },
    {
      "cell_type": "code",
      "source": [
        "def print_board(board):\n",
        "    for row in board:\n",
        "        print(row)\n",
        "\n",
        "def is_valid(board, row, col, num):\n",
        "    # Kiểm tra xem số num có thể đặt vào vị trí (row, col) trên bảng Sudoku hay không\n",
        "\n",
        "    # Kiểm tra hàng\n",
        "    for i in range(9):\n",
        "        if board[row][i] == num:\n",
        "            return False\n",
        "\n",
        "    # Kiểm tra cột\n",
        "    for i in range(9):\n",
        "        if board[i][col] == num:\n",
        "            return False\n",
        "\n",
        "    # Kiểm tra vùng 3x3\n",
        "    start_row = (row // 3) * 3\n",
        "    start_col = (col // 3) * 3\n",
        "    for i in range(3):\n",
        "        for j in range(3):\n",
        "            if board[start_row + i][start_col + j] == num:\n",
        "                return False\n",
        "\n",
        "    return True\n",
        "\n",
        "def solve_sudoku(board):\n",
        "    for row in range(9):\n",
        "        for col in range(9):\n",
        "            if board[row][col] == 0:  # Ô trống\n",
        "                for num in range(1, 10):  # Thử các số từ 1 đến 9\n",
        "                    if is_valid(board, row, col, num):\n",
        "                        board[row][col] = num  # Đặt số vào ô\n",
        "                        if solve_sudoku(board):  # Đệ quy giải quyết tiếp\n",
        "                            return True\n",
        "                        board[row][col] = 0  # Backtrack\n",
        "                return False\n",
        "    return True\n",
        "\n",
        "# Đoạn mã chính để chạy\n",
        "if __name__ == \"__main__\":\n",
        "    board = [\n",
        "        [5, 3, 0, 0, 7, 0, 0, 0, 0],\n",
        "        [6, 0, 0, 1, 9, 5, 0, 0, 0],\n",
        "        [0, 9, 8, 0, 0, 0, 0, 6, 0],\n",
        "        [8, 0, 0, 0, 6, 0, 0, 0, 3],\n",
        "        [4, 0, 0, 8, 0, 3, 0, 0, 1],\n",
        "        [7, 0, 0, 0, 2, 0, 0, 0, 6],\n",
        "        [0, 6, 0, 0, 0, 0, 2, 8, 0],\n",
        "        [0, 0, 0, 4, 1, 9, 0, 0, 5],\n",
        "        [0, 0, 0, 0, 8, 0, 0, 7, 9]\n",
        "    ]\n",
        "\n",
        "    if solve_sudoku(board):\n",
        "        print(\"Sudoku solved:\")\n",
        "        print_board(board)\n",
        "    else:\n",
        "        print(\"No solution exists.\")\n"
      ],
      "metadata": {
        "id": "oC8WZYYolGeD"
      },
      "execution_count": null,
      "outputs": []
    }
  ]
}